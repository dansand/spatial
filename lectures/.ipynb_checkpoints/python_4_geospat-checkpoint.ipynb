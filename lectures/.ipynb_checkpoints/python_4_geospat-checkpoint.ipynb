{
 "cells": [
  {
   "cell_type": "code",
   "execution_count": 1,
   "metadata": {
    "collapsed": false
   },
   "outputs": [
    {
     "name": "stdout",
     "output_type": "stream",
     "text": [
      "\u001b[H\u001b[2J"
     ]
    }
   ],
   "source": []
  },
  {
   "cell_type": "markdown",
   "metadata": {
    "slideshow": {
     "slide_type": "notes"
    }
   },
   "source": [
    "#Dan notes:\n",
    "\n",
    "##Thing to include\n",
    "###Geotools\n",
    "\n",
    "* gplates/PyGplates\n",
    "\n",
    "###General tools\n",
    "\n",
    "* stackoverflow\n",
    "\n",
    "\n",
    "\n"
   ]
  },
  {
   "cell_type": "markdown",
   "metadata": {
    "slideshow": {
     "slide_type": "slide"
    }
   },
   "source": [
    "#Python for Geospatial data \n",
    "\n",
    "* this presentation introduces some of the geospatial capabilities of Python\n",
    "\n",
    "* our focus will be on the shapely, fiona, & rasterio, libraries\n",
    "\n",
    "* as well as the GeoPandas library which allows GIS-like organisation / queries"
   ]
  },
  {
   "cell_type": "markdown",
   "metadata": {
    "slideshow": {
     "slide_type": "slide"
    }
   },
   "source": [
    "##With all the data formats available...\n",
    "...how do we use them all together?\n",
    "\n"
   ]
  },
  {
   "cell_type": "markdown",
   "metadata": {
    "slideshow": {
     "slide_type": "subslide"
    }
   },
   "source": [
    "##<span style=\"color:orange\">Geospatial Data Abstraction Library (GDAL) & OGR Simple Feature Library</span> \n",
    " \n",
    "* Read, write, convert, edit, access\n",
    "* Raster and Vector\n",
    "* Open Source 'Swiss Army Knife' of data formats\n",
    "* Open Source Geospatial Foundation (OSGeo) project\n",
    "* Comes with lots of command line utilities and functions"
   ]
  },
  {
   "cell_type": "markdown",
   "metadata": {
    "slideshow": {
     "slide_type": "subslide"
    }
   },
   "source": [
    "##<span style=\"color:orange\">JSON / GeoJSON</span> \n",
    "\n",
    "JSON (JavaScript Object Notation) is a lightweight data-interchange format.\n",
    "An object is an unordered set of name/value pairs. An object begins with { (left brace) and ends with } (right brace). Each name is followed by : (colon) and the name/value pairs are separated by , (comma).  \n"
   ]
  },
  {
   "cell_type": "markdown",
   "metadata": {
    "collapsed": true,
    "slideshow": {
     "slide_type": "subslide"
    }
   },
   "source": [
    "##<span style=\"color:orange\">JSON / GeoJSON</span> \n",
    "\n",
    "\n",
    "\n",
    "```\n",
    "{\n",
    "  \"type\": \"Feature\",\n",
    "  \"geometry\": {\n",
    "    \"type\": \"Point\",\n",
    "    \"coordinates\": [125.6, 10.1]\n",
    "  },\n",
    "  \"properties\": {\n",
    "    \"name\": \"Dinagat Islands\"\n",
    "  }\n",
    "}\n",
    "```\n",
    "\n",
    "GeoJSON has become a de facto standard on the web."
   ]
  },
  {
   "cell_type": "markdown",
   "metadata": {
    "collapsed": true,
    "slideshow": {
     "slide_type": "subslide"
    }
   },
   "source": [
    "##<span style=\"color:orange\">JSON / GeoJSON</span> \n",
    "\n",
    "* GeoJSON always consists of a single object. This object (referred to as the GeoJSON object below) represents a geometry, feature, or collection of features.\n",
    "\n",
    "\n",
    "* The GeoJSON object may have any number of members (name/value pairs).\n",
    "\n",
    "\n",
    "* The GeoJSON object must have a member with the name \"type\". This member's value is a string that determines the type of the GeoJSON object.\n",
    "\n"
   ]
  },
  {
   "cell_type": "markdown",
   "metadata": {
    "slideshow": {
     "slide_type": "subslide"
    }
   },
   "source": [
    "##<span style=\"color:orange\">JSON / GeoJSON</span> \n",
    "\n",
    "\n",
    "* The value of the type member must be one of: \"Point\", \"MultiPoint\", \"LineString\", \"MultiLineString\", \"Polygon\", \"MultiPolygon\", \"GeometryCollection\", \"Feature\", or \"FeatureCollection\". The case of the type member values must be as shown here.\n",
    "\n",
    "\n",
    "* A GeoJSON object may have an optional \"crs\" member, the value of which must be a coordinate reference system object \n"
   ]
  },
  {
   "cell_type": "markdown",
   "metadata": {
    "slideshow": {
     "slide_type": "notes"
    }
   },
   "source": [
    "JSON and python play well together because of the affinity between the Json format and python Dictionaries\n",
    "\n",
    "The json library can parse JSON from strings or files. \n",
    "\n",
    "The library parses JSON into a Python dictionary or list. \n",
    "\n",
    "It can also convert Python dictionaries or lists into JSON strings."
   ]
  },
  {
   "cell_type": "markdown",
   "metadata": {
    "slideshow": {
     "slide_type": "slide"
    }
   },
   "source": [
    "##<span style=\"color:green\">Shapely & Fiona</span> \n",
    "\n",
    "* Fiona is an interface to OGR\n",
    "* Fiona reads and writes spatial data files\n",
    "* it's a native GeoJSON speaker\n",
    "* A Python package at the top\n",
    "* Extension modules (using Cython) in the middle\n",
    "\n"
   ]
  },
  {
   "cell_type": "markdown",
   "metadata": {
    "slideshow": {
     "slide_type": "subslide"
    }
   },
   "source": [
    "##<span style=\"color:green\">Shapely & Fiona</span> \n",
    "* Fiona's open() function  gives you a file-like dataset object (in fact an iterator - like a python file is an iterator for lines, this is an iterator for features)\n",
    "\n",
    "* read() gives you a Numpy ndarray\n",
    "\n",
    "* next() gives you the next feature record from the iterator\n",
    "\n",
    "* Records are Python dicts"
   ]
  },
  {
   "cell_type": "markdown",
   "metadata": {
    "collapsed": true,
    "slideshow": {
     "slide_type": "subslide"
    }
   },
   "source": [
    "```\n",
    "import fiona\n",
    "\n",
    "with fiona.open(path) as src:\n",
    "    first = next(src)\n",
    "``` "
   ]
  },
  {
   "cell_type": "markdown",
   "metadata": {
    "slideshow": {
     "slide_type": "subslide"
    }
   },
   "source": [
    "##<span style=\"color:green\">Shapely & Fiona</span> \n",
    "* Shapely is a Python package for set-theoretic analysis and manipulation of planar features using (via Python’s ctypes module) functions from the well known and widely deployed GEOS library.\n",
    "* set-theoretic operations are intersection, union, etc.\n",
    "* manipulations include transforms, duplications\n",
    "* Also allows relationships to be tested (e.g. point-in-polygon)"
   ]
  },
  {
   "cell_type": "markdown",
   "metadata": {
    "slideshow": {
     "slide_type": "slide"
    }
   },
   "source": [
    "## Managing data\n",
    "###<span style=\"color:green\">Pandas (Python Data Analysis Library)</span>\n",
    "* Focuses on high-performance, easy-to-use data structures for data analysis\n",
    "* An integral part of the SciPy ecosystem and widely used by other packages\n",
    "* Modified BSD Licence"
   ]
  },
  {
   "cell_type": "markdown",
   "metadata": {
    "slideshow": {
     "slide_type": "subslide"
    }
   },
   "source": [
    "##What About Geospatial Data?\n",
    "###<span style=\"color:green\">GeoPandas (Python Tools for Geographic Data)</span>\n",
    "* Adds support for geographic data to pandas objects\n",
    "* Can act on shapely geometry objects and perform geometric operations\n",
    "* File and database I/O for geospatial formats\n",
    "* ...but it retains the dataframe object (and methods) that are at the heart of Pandas,\n",
    "* Modified BSD Licence"
   ]
  },
  {
   "cell_type": "markdown",
   "metadata": {
    "slideshow": {
     "slide_type": "subslide"
    }
   },
   "source": [
    "##<span style=\"color:green\">GeoPandas</span> \n",
    "###objects\n",
    "* a GeoSeries is a 1-d object, containing only geometries\n",
    "* a GeoDataFrame contains a geometry columns - the others could be attributes of any Python kind (ints, floats, strings etc)\n",
    "\n"
   ]
  },
  {
   "cell_type": "code",
   "execution_count": 3,
   "metadata": {
    "collapsed": false,
    "slideshow": {
     "slide_type": "slide"
    }
   },
   "outputs": [],
   "source": [
    "# magic command to display matplotlib plots inline within the ipython notebook webpage\n",
    "%matplotlib inline\n",
    "\n",
    "# import necessary modules\n",
    "import pandas as pd, numpy as np, matplotlib.pyplot as plt\n",
    "from geopandas import GeoSeries, GeoDataFrame\n",
    "from shapely.geometry import Polygon, Point, LineString, MultiPoint\n",
    "from geopy.distance import great_circle"
   ]
  },
  {
   "cell_type": "code",
   "execution_count": 7,
   "metadata": {
    "collapsed": false,
    "slideshow": {
     "slide_type": "subslide"
    }
   },
   "outputs": [],
   "source": [
    "# create a GeoSeries of shapely polygon objects\n",
    "p1 = Polygon([(0, 0), (1, 0), (1, 1)])\n",
    "p2 = Polygon([(0, 0), (1, 0), (1, 1), (0, 1)])\n",
    "p3 = Polygon([(2, 0), (3, 0), (3, 1), (2, 1)])\n",
    "\n",
    "gs = GeoSeries([p1, p2, p3])\n",
    "\n",
    "# GeoPandas uses descartes to generate a matplotlib plot... let's generate a plot of our GeoSeries\n",
    "\n",
    "gs.plot()"
   ]
  },
  {
   "cell_type": "code",
   "execution_count": 8,
   "metadata": {
    "collapsed": false,
    "slideshow": {
     "slide_type": "subslide"
    }
   },
   "outputs": [],
   "source": [
    "# the area property of a GeoSeries will return a pandas.Series containing the area of each item in the GeoSeries\n",
    "gs.area"
   ]
  },
  {
   "cell_type": "code",
   "execution_count": 9,
   "metadata": {
    "collapsed": false,
    "slideshow": {
     "slide_type": "fragment"
    }
   },
   "outputs": [],
   "source": [
    "# other operations return GeoPandas objects\n",
    "buff = gs.buffer(0.75)\n",
    "buff.plot()"
   ]
  },
  {
   "cell_type": "code",
   "execution_count": 10,
   "metadata": {
    "collapsed": false,
    "slideshow": {
     "slide_type": "subslide"
    }
   },
   "outputs": [],
   "source": [
    "#We can chain together shapely operations \n",
    "polygon = Point(0, 0).buffer(10.0).difference(\n",
    "    MultiPoint([(-5, 0), (5, 0)]).buffer(3.0))\n",
    "ps = GeoSeries([polygon])\n",
    "ps.plot()"
   ]
  },
  {
   "cell_type": "markdown",
   "metadata": {
    "slideshow": {
     "slide_type": "slide"
    }
   },
   "source": [
    "##A quick aside ... opening .csv w/ <span style=\"color:green\">Pandas</span> "
   ]
  },
  {
   "cell_type": "code",
   "execution_count": 11,
   "metadata": {
    "collapsed": false,
    "slideshow": {
     "slide_type": "fragment"
    }
   },
   "outputs": [],
   "source": [
    "rs = pd.read_csv('../data/csv/US_Regions_State_Boundaries.csv')\n",
    "rs.head()"
   ]
  },
  {
   "cell_type": "markdown",
   "metadata": {
    "slideshow": {
     "slide_type": "slide"
    }
   },
   "source": [
    "##Examples with <span style=\"color:green\">GeoPandas</span> "
   ]
  },
  {
   "cell_type": "code",
   "execution_count": 12,
   "metadata": {
    "collapsed": false,
    "slideshow": {
     "slide_type": "subslide"
    }
   },
   "outputs": [
    {
     "name": "stdout",
     "output_type": "stream",
     "text": [
      "<class 'geopandas.geodataframe.GeoDataFrame'>\n"
     ]
    }
   ],
   "source": [
    "df = GeoDataFrame.from_file('../data/GIS_prac_2/gpregmeta1m_polygon_geo_gda94.shp')\n",
    "#Verify the type of the object we just created\n",
    "print(type(df))\n",
    "#And print the first few lines using the .head() method\n",
    "df.head()\n",
    "\n"
   ]
  },
  {
   "cell_type": "code",
   "execution_count": 13,
   "metadata": {
    "collapsed": false,
    "slideshow": {
     "slide_type": "fragment"
    }
   },
   "outputs": [],
   "source": [
    "df['geometry'].crs"
   ]
  },
  {
   "cell_type": "code",
   "execution_count": 14,
   "metadata": {
    "collapsed": false,
    "slideshow": {
     "slide_type": "subslide"
    }
   },
   "outputs": [],
   "source": [
    "df.plot()"
   ]
  },
  {
   "cell_type": "markdown",
   "metadata": {
    "slideshow": {
     "slide_type": "slide"
    }
   },
   "source": [
    "##Slicing, queries and sorting with <span style=\"color:green\">GeoPandas</span> \n"
   ]
  },
  {
   "cell_type": "code",
   "execution_count": 15,
   "metadata": {
    "collapsed": false,
    "slideshow": {
     "slide_type": "subslide"
    }
   },
   "outputs": [],
   "source": [
    "#Sorting\n",
    "\n",
    "df.set_index('UFI', inplace=True)\n",
    "sort = df.sort()\n",
    "sort.head()"
   ]
  },
  {
   "cell_type": "code",
   "execution_count": 16,
   "metadata": {
    "collapsed": false,
    "slideshow": {
     "slide_type": "subslide"
    }
   },
   "outputs": [],
   "source": [
    "df.METAGRADE.unique()"
   ]
  },
  {
   "cell_type": "code",
   "execution_count": 43,
   "metadata": {
    "collapsed": false,
    "slideshow": {
     "slide_type": "fragment"
    }
   },
   "outputs": [],
   "source": [
    "df1 = df[df.FEATURE.str.contains('REGION_META')]\n",
    "\n",
    "#df.FEATURE.str.contains is an iterator, \n",
    "#in other words this method is diguising a loop\n",
    "\n",
    "#df.FEATURE.str.contains('REGION_META')"
   ]
  },
  {
   "cell_type": "code",
   "execution_count": 44,
   "metadata": {
    "collapsed": false,
    "slideshow": {
     "slide_type": "fragment"
    }
   },
   "outputs": [],
   "source": [
    "df2 = df1[df1.METAGRADE.str.contains('CAMBRIAN ABOVE CHLORITE GRADE')]"
   ]
  },
  {
   "cell_type": "code",
   "execution_count": 17,
   "metadata": {
    "collapsed": false,
    "slideshow": {
     "slide_type": "subslide"
    }
   },
   "outputs": [],
   "source": [
    "df2.plot()"
   ]
  },
  {
   "cell_type": "code",
   "execution_count": 19,
   "metadata": {
    "collapsed": false,
    "slideshow": {
     "slide_type": "subslide"
    }
   },
   "outputs": [],
   "source": [
    "#Print area, cumulative area\n",
    "print(df2.area)\n",
    "#print \"The cumulative area is \\%\" df2.area.sum()\n",
    "\n",
    "print \"The cumulative area is: {} \".format(df2.area.sum())"
   ]
  },
  {
   "cell_type": "code",
   "execution_count": 21,
   "metadata": {
    "collapsed": false,
    "slideshow": {
     "slide_type": "subslide"
    }
   },
   "outputs": [],
   "source": [
    "#Reproject the dataframe to MGA zone 55 (I think)\n",
    "test = df2.to_crs(epsg=28355)\n",
    "test.plot()"
   ]
  },
  {
   "cell_type": "code",
   "execution_count": 22,
   "metadata": {
    "collapsed": false,
    "slideshow": {
     "slide_type": "subslide"
    }
   },
   "outputs": [],
   "source": [
    "#Calculate area in Projected coordinates (MGA Zone 55)\n",
    "df2['area'] = df2.to_crs(epsg=28355).area\n",
    "df2"
   ]
  },
  {
   "cell_type": "code",
   "execution_count": null,
   "metadata": {
    "collapsed": false
   },
   "outputs": [],
   "source": [
    " "
   ]
  },
  {
   "cell_type": "code",
   "execution_count": 24,
   "metadata": {
    "collapsed": false,
    "slideshow": {
     "slide_type": "subslide"
    }
   },
   "outputs": [],
   "source": [
    "pdf = pd.DataFrame(index=df2.index, columns={})\n",
    "pdf['area'] = df2.area\n",
    "pdf['name'] = df2.OBSERVMETH\n",
    "pdf.index=pdf.name\n",
    "pdf.plot(kind='bar')"
   ]
  },
  {
   "cell_type": "code",
   "execution_count": 50,
   "metadata": {
    "collapsed": false,
    "slideshow": {
     "slide_type": "subslide"
    }
   },
   "outputs": [],
   "source": [
    "# save resulting shapefile\n",
    "df2.to_file(\"test.shp\")"
   ]
  },
  {
   "cell_type": "code",
   "execution_count": 25,
   "metadata": {
    "collapsed": false,
    "slideshow": {
     "slide_type": "subslide"
    }
   },
   "outputs": [],
   "source": [
    "import geojsonio\n",
    "\n",
    "# Shoot to a gist/geojson.io!\n",
    "res = geojsonio.display(df.to_json(), force_gist=True)\n",
    "print(res)"
   ]
  },
  {
   "cell_type": "code",
   "execution_count": 26,
   "metadata": {
    "collapsed": false,
    "slideshow": {
     "slide_type": "fragment"
    }
   },
   "outputs": [],
   "source": [
    "print(\"https://gist.github.com/anonymous/%s\" % res[res.find(\"gist:/\")+6:])"
   ]
  },
  {
   "cell_type": "markdown",
   "metadata": {
    "collapsed": true,
    "slideshow": {
     "slide_type": "slide"
    }
   },
   "source": [
    "##Rasters and images with <span style=\"color:green\">Rasterio and numpy</span>\n",
    "\n",
    " * Rasterio is a python interface to GDAL\n",
    " *  open() gives you a file-like dataset object\n",
    " * read() gives you a Numpy ndarray\n",
    " * Read windows of data with extended slice-like syntax"
   ]
  },
  {
   "cell_type": "code",
   "execution_count": 29,
   "metadata": {
    "collapsed": false,
    "slideshow": {
     "slide_type": "subslide"
    }
   },
   "outputs": [],
   "source": [
    "import os\n",
    "import rasterio\n",
    "filename = os.path.join('..', 'data','rasters', 'TDM1_DEM__04_S32E138_DEM.tif')\n",
    "dataset = rasterio.open(filename)\n",
    "\n",
    "\n",
    "bounds = dataset.bounds[::2] + dataset.bounds[1::2]"
   ]
  },
  {
   "cell_type": "code",
   "execution_count": 27,
   "metadata": {
    "collapsed": false,
    "slideshow": {
     "slide_type": "subslide"
    }
   },
   "outputs": [],
   "source": [
    "print(dataset.meta)"
   ]
  },
  {
   "cell_type": "code",
   "execution_count": 31,
   "metadata": {
    "collapsed": false,
    "slideshow": {
     "slide_type": "fragment"
    }
   },
   "outputs": [],
   "source": [
    "data = dataset.read_band(1)"
   ]
  },
  {
   "cell_type": "code",
   "execution_count": 32,
   "metadata": {
    "collapsed": false,
    "slideshow": {
     "slide_type": "subslide"
    }
   },
   "outputs": [],
   "source": [
    "#Because it's a numpy ndarray, we have the entire numpy and scipy world available to us to work on the data.\n",
    "array_chop = data[2000:-2000,2000:-2000]\n"
   ]
  },
  {
   "cell_type": "code",
   "execution_count": 35,
   "metadata": {
    "collapsed": false,
    "slideshow": {
     "slide_type": "subslide"
    }
   },
   "outputs": [],
   "source": [
    "#############\n",
    "#Write the data\n",
    "#############\n",
    "kwargs = dataset.meta\n",
    "kwargs['width'] = array_chop.shape[0]\n",
    "kwargs['height'] = array_chop.shape[1]\n",
    "\n",
    "with rasterio.open('flinders.tif', 'w', **kwargs) as dst:\n",
    "    dst.write_band(1,array_chop)"
   ]
  },
  {
   "cell_type": "code",
   "execution_count": 28,
   "metadata": {
    "collapsed": false,
    "slideshow": {
     "slide_type": "subslide"
    }
   },
   "outputs": [],
   "source": [
    "filename = os.path.join('flinders.tif')\n",
    "dataset1 = rasterio.open(filename)\n",
    "\n",
    "image = dataset1.read_band(1)\n",
    "# Default figure size\n",
    "plt.rcParams['figure.figsize'] = (6.0, 6.0)\n",
    "im = plt.imshow(image, cmap='terrain')\n",
    "\n"
   ]
  },
  {
   "cell_type": "code",
   "execution_count": 29,
   "metadata": {
    "collapsed": false,
    "slideshow": {
     "slide_type": "subslide"
    }
   },
   "outputs": [],
   "source": [
    "#Histogram\n",
    "\n",
    "n, bins, patches = plt.hist(image.flatten())\n",
    "plt.grid()\n",
    "plt.show()"
   ]
  },
  {
   "cell_type": "code",
   "execution_count": 68,
   "metadata": {
    "collapsed": true,
    "slideshow": {
     "slide_type": "subslide"
    }
   },
   "outputs": [],
   "source": [
    "# http://geoexamples.blogspot.dk/2014/03/shaded-relief-images-using-gdal-python.html\n",
    "def hillshade(array, azimuth, angle_altitude):  \n",
    "    x, y = np.gradient(array, 5., 5.)  \n",
    "    slope = np.pi/2. - np.arctan(np.sqrt(x*x + y*y) )  \n",
    "    aspect = np.arctan2(-x, y)  \n",
    "    azimuthrad = azimuth * np.pi / 180.  \n",
    "    altituderad = angle_altitude * np.pi / 180.  \n",
    "       \n",
    "    shaded = np.sin(altituderad) * np.sin(slope)\\\n",
    "           + np.cos(altituderad) * np.cos(slope)\\\n",
    "           * np.cos(azimuthrad - aspect)\n",
    "    return 255*(shaded + 1)/2 "
   ]
  },
  {
   "cell_type": "code",
   "execution_count": 30,
   "metadata": {
    "collapsed": false,
    "slideshow": {
     "slide_type": "subslide"
    }
   },
   "outputs": [],
   "source": [
    "shade = hillshade(image, 270, 45)\n",
    "plt.rcParams['figure.figsize'] = (10.0, 10.0)\n",
    "im = plt.imshow(shade, cmap='gray')"
   ]
  },
  {
   "cell_type": "code",
   "execution_count": 32,
   "metadata": {
    "collapsed": false,
    "slideshow": {
     "slide_type": "subslide"
    }
   },
   "outputs": [
    {
     "ename": "NameError",
     "evalue": "name 'z' is not defined",
     "output_type": "error",
     "traceback": [
      "\u001b[0;31m---------------------------------------------------------------------------\u001b[0m",
      "\u001b[0;31mNameError\u001b[0m                                 Traceback (most recent call last)",
      "\u001b[0;32m<ipython-input-32-2301964757f0>\u001b[0m in \u001b[0;36m<module>\u001b[0;34m()\u001b[0m\n\u001b[1;32m     14\u001b[0m \u001b[0;34m\u001b[0m\u001b[0m\n\u001b[1;32m     15\u001b[0m \u001b[0;31m# Extract the values along the line, using cubic interpolation\u001b[0m\u001b[0;34m\u001b[0m\u001b[0;34m\u001b[0m\u001b[0m\n\u001b[0;32m---> 16\u001b[0;31m \u001b[0mzi\u001b[0m \u001b[0;34m=\u001b[0m \u001b[0mscipy\u001b[0m\u001b[0;34m.\u001b[0m\u001b[0mndimage\u001b[0m\u001b[0;34m.\u001b[0m\u001b[0mmap_coordinates\u001b[0m\u001b[0;34m(\u001b[0m\u001b[0mnp\u001b[0m\u001b[0;34m.\u001b[0m\u001b[0mtranspose\u001b[0m\u001b[0;34m(\u001b[0m\u001b[0mz\u001b[0m\u001b[0;34m)\u001b[0m\u001b[0;34m,\u001b[0m \u001b[0mnp\u001b[0m\u001b[0;34m.\u001b[0m\u001b[0mvstack\u001b[0m\u001b[0;34m(\u001b[0m\u001b[0;34m(\u001b[0m\u001b[0mx\u001b[0m\u001b[0;34m,\u001b[0m\u001b[0my\u001b[0m\u001b[0;34m)\u001b[0m\u001b[0;34m)\u001b[0m\u001b[0;34m)\u001b[0m \u001b[0;31m# THIS SEEMS TO WORK CORRECTLY\u001b[0m\u001b[0;34m\u001b[0m\u001b[0m\n\u001b[0m\u001b[1;32m     17\u001b[0m \u001b[0;34m\u001b[0m\u001b[0m\n\u001b[1;32m     18\u001b[0m \u001b[0;31m#-- Plot...\u001b[0m\u001b[0;34m\u001b[0m\u001b[0;34m\u001b[0m\u001b[0m\n",
      "\u001b[0;31mNameError\u001b[0m: name 'z' is not defined"
     ]
    }
   ],
   "source": [
    "import numpy as np\n",
    "import scipy.ndimage\n",
    "import matplotlib.pyplot as plt\n",
    "import scipy.misc # ADDED THIS LINE\n",
    "\n",
    "z = image\n",
    "\n",
    "#-- Extract the line...\n",
    "# Make a line with \"num\" points...\n",
    "x0, y0 = 5, 5 # These are in _pixel_ coordinates!!\n",
    "x1, y1 = 4000, 4000\n",
    "num = 6000\n",
    "x, y = np.linspace(x0, x1, num), np.linspace(y0, y1, num)\n",
    "\n",
    "# Extract the values along the line, using cubic interpolation\n",
    "zi = scipy.ndimage.map_coordinates(np.transpose(z), np.vstack((x,y))) # THIS SEEMS TO WORK CORRECTLY\n",
    "\n",
    "#-- Plot...\n",
    "fig, axes = plt.subplots(nrows=2)\n",
    "axes[0].imshow(z)\n",
    "axes[0].plot([x0, x1], [y0, y1], 'ro-')\n",
    "axes[0].axis('image')\n",
    "\n",
    "axes[1].plot(zi)\n",
    "\n",
    "plt.show()\n",
    "\n",
    "\n",
    "\n"
   ]
  },
  {
   "cell_type": "markdown",
   "metadata": {
    "slideshow": {
     "slide_type": "notes"
    }
   },
   "source": [
    "The old way is python bindings to ogr/gdal\n",
    "\n",
    "    from osgeo import gdal\n",
    "    from osgeo import ogr\n",
    "    from osgeo import osr\n",
    "    from osgeo import gdal_array\n",
    "    from osgeo import gdalconst\n",
    "    \n",
    "These are SWIG generated Python bindings for GDAL and OGR. "
   ]
  },
  {
   "cell_type": "markdown",
   "metadata": {
    "slideshow": {
     "slide_type": "slide"
    }
   },
   "source": [
    "#Georeferencing\n",
    "\n",
    "\n",
    "##<span style=\"color:orange\">Proj.4 (Cartographic Projections Library)</span>\n",
    "\n",
    "\n",
    "\n",
    "* Originally written by Gerald Evenden then of the USGS (C++)\n",
    "* Now maintained and copyright Frank Warmerdam\n",
    "* Comprehensive list of existing projections and tool for transforming between CRSs and Projections\n",
    "* Open Source Geospatial Foundation (OSGeo) project\n"
   ]
  },
  {
   "cell_type": "markdown",
   "metadata": {
    "slideshow": {
     "slide_type": "subslide"
    }
   },
   "source": [
    "\n",
    "##<span style=\"color:orange\">PyProj (Python Interface to PROJ.4 Library)</span>\n",
    "\n",
    "* Optimized for objects that support the Python buffer protocol (regular python and numpy array objects)\n",
    "* Performs cartographic transformations and geodetic computations\n",
    "* Cython wrapper to provide python interfaces to PROJ.4\n",
    "* MIT Licenced\n",
    "* Fiona and Rasterio also use proj4, but store the information as a python dict\n"
   ]
  },
  {
   "cell_type": "markdown",
   "metadata": {
    "slideshow": {
     "slide_type": "slide"
    }
   },
   "source": [
    "##Converting Coordinates with <span style=\"color:green\">PyProj</span>"
   ]
  },
  {
   "cell_type": "code",
   "execution_count": 9,
   "metadata": {
    "collapsed": false,
    "slideshow": {
     "slide_type": "subslide"
    }
   },
   "outputs": [
    {
     "name": "stdout",
     "output_type": "stream",
     "text": [
      "(-10880408.440985134, 3539932.8204972977)\n",
      "(-97.740372, 30.282642000000003)\n"
     ]
    }
   ],
   "source": [
    "from pyproj import Proj\n",
    "\n",
    "# Create projection transformation object\n",
    "p = Proj(init='epsg:3857') # EPSG code for Web Mercator\n",
    "\n",
    "# Convert from long/lat to Mercator and back\n",
    "print(p(-97.740372, 30.282642))\n",
    "print(p(-10880408.440985134, 3539932.8204972977, inverse=True))"
   ]
  },
  {
   "cell_type": "code",
   "execution_count": 10,
   "metadata": {
    "collapsed": false,
    "slideshow": {
     "slide_type": "subslide"
    }
   },
   "outputs": [],
   "source": [
    "# Fiona has several helper functions for working with proj4 strings\n",
    "from fiona.crs import to_string, from_epsg, from_string\n",
    "\n",
    "# Create a crs dict from a proj4 string\n",
    "crs = from_string('+proj=lcc +lat_1=41.03333333333333 +lat_2=40.66666666666666 '\n",
    "                  '+lat_0=40.16666666666666 +lon_0=-74 +x_0=300000.0000000001 '\n",
    "                  '+y_0=0 +ellps=GRS80 +towgs84=0,0,0,0,0,0,0 +units=us-ft +no_defs')\n",
    "\n",
    "# Using a proj4 string\n",
    "nyc_proj = Proj(crs, preserve_units=True)\n",
    "\n",
    "# Using an EPSG code\n",
    "nyc_epsg = Proj(init='epsg:2263', preserve_units=True)"
   ]
  },
  {
   "cell_type": "code",
   "execution_count": 11,
   "metadata": {
    "collapsed": false,
    "slideshow": {
     "slide_type": "subslide"
    }
   },
   "outputs": [
    {
     "name": "stdout",
     "output_type": "stream",
     "text": [
      "(-6539019.907374031, -2593028.1211364972)\n"
     ]
    }
   ],
   "source": [
    "print(nyc_proj(-97.740372, 30.282642))"
   ]
  },
  {
   "cell_type": "code",
   "execution_count": 11,
   "metadata": {
    "collapsed": false,
    "slideshow": {
     "slide_type": "fragment"
    }
   },
   "outputs": [
    {
     "data": {
      "text/plain": [
       "'+lon_0=-74 +ellps=GRS80 +y_0=0 +no_defs=True +proj=lcc +x_0=300000.0 +units=us-ft +towgs84=0,0,0,0,0,0,0 +lat_2=40.6666666667 +lat_1=41.0333333333 +lat_0=40.1666666667 '"
      ]
     },
     "execution_count": 11,
     "metadata": {},
     "output_type": "execute_result"
    }
   ],
   "source": [
    "nyc_proj.srs"
   ]
  },
  {
   "cell_type": "code",
   "execution_count": 12,
   "metadata": {
    "collapsed": false,
    "slideshow": {
     "slide_type": "fragment"
    }
   },
   "outputs": [
    {
     "data": {
      "text/plain": [
       "'+init=epsg:2263 '"
      ]
     },
     "execution_count": 12,
     "metadata": {},
     "output_type": "execute_result"
    }
   ],
   "source": [
    "nyc_epsg.srs"
   ]
  }
 ],
 "metadata": {
  "celltoolbar": "Slideshow",
  "kernelspec": {
   "display_name": "Python 2",
   "language": "python",
   "name": "python2"
  },
  "language_info": {
   "codemirror_mode": {
    "name": "ipython",
    "version": 2
   },
   "file_extension": ".py",
   "mimetype": "text/x-python",
   "name": "python",
   "nbconvert_exporter": "python",
   "pygments_lexer": "ipython2",
   "version": "2.7.9"
  }
 },
 "nbformat": 4,
 "nbformat_minor": 0
}
